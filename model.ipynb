{
 "cells": [
  {
   "cell_type": "code",
   "execution_count": 1,
   "metadata": {},
   "outputs": [],
   "source": [
    "#Download glove\n",
    "\n",
    "# import urllib.request\n",
    "# import zipfile\n",
    "# import os\n",
    "# from tqdm import tqdm\n",
    "\n",
    "# # Download the GloVe word vectors\n",
    "# url = \"http://nlp.stanford.edu/data/glove.6B.zip\"\n",
    "# output = \"glove.6B.zip\"\n",
    "# def download_progress(block_num, block_size, total_size):\n",
    "#     progress = block_num * block_size / total_size * 100\n",
    "#     print(f\"\\rDownloading: {progress:.2f}%\", end='')\n",
    "\n",
    "# urllib.request.urlretrieve(url, output, reporthook=download_progress)\n",
    "\n",
    "# # Unzip the file\n",
    "# # Add a progress bar to the unzip process\n",
    "# class ZipFileWithProgress(zipfile.ZipFile):\n",
    "#     def extractall(self, path=None, members=None, pwd=None):\n",
    "#         if members is None:\n",
    "#             members = self.namelist()\n",
    "#         total = len(members)\n",
    "        \n",
    "#         with tqdm(total=total, unit='file') as pbar:\n",
    "#             for member in members:\n",
    "#                 self.extract(member, path, pwd)\n",
    "#                 pbar.update(1)\n",
    "\n",
    "# # Use the custom ZipFileWithProgress class\n",
    "# with ZipFileWithProgress(output, 'r') as zip_ref:\n",
    "#     zip_ref.extractall(\"glove.6B\")\n",
    "\n",
    "# # List the extracted files\n",
    "# print(os.listdir(\"glove.6B\"))"
   ]
  },
  {
   "cell_type": "code",
   "execution_count": 2,
   "metadata": {},
   "outputs": [],
   "source": [
    "import torch\n",
    "import torch.nn as nn\n",
    "from torch.utils.data import DataLoader, Dataset\n",
    "import re\n",
    "\n",
    "def get_vocabulary(text : str,\n",
    "                   expr: str=r\"\\b\\w+\\b\",\n",
    "                   case_sensitive : bool=False,\n",
    "                   ) -> dict:\n",
    "    if case_sensitive == False:\n",
    "        text = text.lower()  \n",
    "    vocabulary = set(re.findall(expr, text))\n",
    "    vocab = dict()\n",
    "    inverse_vocab = list()\n",
    "    vocab[\"<PAD>\"] = 0\n",
    "    inverse_vocab.append(\"<PAD>\")\n",
    "    vocab[\"<UNK>\"] = 1\n",
    "    inverse_vocab.append(\"<UNK>\")\n",
    "    for i, token in enumerate(vocabulary):\n",
    "        if token not in vocab:\n",
    "            vocab[token] = i+2 # We start from 2 because 0 and 1 are reserved for <UNK> and <PAD>\n",
    "            inverse_vocab.append(token)\n",
    "    return vocab, inverse_vocab\n",
    "\n",
    "def tokenize_words(text : str,\n",
    "             vocab : dict,\n",
    "             expr : str= r\"\\b\\w+\\b\",\n",
    "             sentence_length : int = 10,\n",
    "             case_sensitive : bool = False) -> list:\n",
    "    if case_sensitive == False:\n",
    "        text = text.lower()\n",
    "    words = re.findall(expr, text)\n",
    "    tokens = []\n",
    "    for i, w in enumerate(words):\n",
    "        if i == sentence_length:\n",
    "            break\n",
    "        if w in vocab:\n",
    "            tokens.append(vocab[w])\n",
    "        else:\n",
    "            tokens.append(vocab[\"<UNK>\"])\n",
    "\n",
    "\n",
    "    if len(tokens) < sentence_length:\n",
    "        n_pad = sentence_length - len(tokens)\n",
    "        pad = [vocab[\"<PAD>\"]] * n_pad\n",
    "        tokens = pad + tokens\n",
    "    return tokens\n",
    "\n",
    "def detokenize_words(tokens : list,\n",
    "                    invert_vocab : list) -> str:\n",
    "    text = \" \".join([invert_vocab[token] for token in tokens])\n",
    "    return text\n",
    "\n",
    "class TextDataset(Dataset):\n",
    "    def __init__(self, texts, labels, tokenizer):\n",
    "        self.texts = texts\n",
    "        self.labels = labels\n",
    "        self.tokenizer = tokenizer\n",
    "\n",
    "    def __len__(self):\n",
    "        return len(self.texts)\n",
    "\n",
    "    def __getitem__(self, idx):\n",
    "        text = self.texts[idx]\n",
    "        label = self.labels[idx]\n",
    "        tokens = self.tokenizer(text)\n",
    "        x = torch.tensor(tokens)\n",
    "        y = torch.tensor(label).reshape(1).clone().detach()\n",
    "        return x, y\n",
    "    \n",
    "class MyTokenizer:\n",
    "    def __init__(self, sentence_length, case_sensitive=False):\n",
    "        self.sentence_length = sentence_length\n",
    "        self.case_sensitive = case_sensitive\n",
    "\n",
    "    def fit(self, phrases : list, expr : str=r\"\\b\\w+\\b\"):\n",
    "        self.vocab, self.inverse_vocab = get_vocabulary(\" \".join(phrases),\n",
    "                                                        expr=expr,\n",
    "                                                        case_sensitive=self.case_sensitive)\n",
    "        self.vocab_size = len(self.vocab)\n",
    "        \n",
    "    def __call__(self, x):\n",
    "        return tokenize_words(x,\n",
    "                              self.vocab,\n",
    "                              sentence_length=self.sentence_length,\n",
    "                              case_sensitive=self.case_sensitive)\n",
    "\n",
    "def load_glove_vectors(glove_file):\n",
    "    glove_vectors = {}\n",
    "    with open(glove_file, 'r', encoding='utf-8') as f:\n",
    "        for line in f:\n",
    "            values = line.split()\n",
    "            word = values[0]\n",
    "            vector = torch.tensor([float(val) for val in values[1:]], dtype=torch.float32)\n",
    "            glove_vectors[word] = vector\n",
    "    return glove_vectors\n",
    "\n",
    "glove_file = \"glove.6B/glove.6B.300d.txt\"  # Change this to the appropriate file if needed\n",
    "glove_vectors = load_glove_vectors(glove_file)\n",
    "\n",
    "\n",
    "def get_vocabulary_from_glove(glove_vectors):\n",
    "    vocab = dict()\n",
    "    inverse_vocab = list()\n",
    "    vocab[\"<PAD>\"] = 0\n",
    "    inverse_vocab.append(\"<PAD>\")\n",
    "    vocab[\"<UNK>\"] = 1\n",
    "    inverse_vocab.append(\"<UNK>\")\n",
    "    for word, vector in glove_vectors.items():\n",
    "        vocab[word] = len(inverse_vocab)\n",
    "        inverse_vocab.append(word)\n",
    "    return vocab, inverse_vocab\n",
    "\n",
    "vocab, inverse_vocab = get_vocabulary_from_glove(glove_vectors)"
   ]
  },
  {
   "cell_type": "code",
   "execution_count": 3,
   "metadata": {},
   "outputs": [
    {
     "name": "stdout",
     "output_type": "stream",
     "text": [
      "Embedding layer created with shape: torch.Size([400002, 300])\n"
     ]
    }
   ],
   "source": [
    "embedding_dim = 300  # This should match the dimension of the GloVe vectors\n",
    "vocab_size = len(glove_vectors) + 2\n",
    "embedding = nn.Embedding(vocab_size, embedding_dim)\n",
    "\n",
    "for idx, word in enumerate(inverse_vocab[2:]):\n",
    "    i = idx + 2\n",
    "    embedding.weight[i].data = glove_vectors[word]\n",
    "\n",
    "print(\"Embedding layer created with shape:\", embedding.weight.shape)"
   ]
  },
  {
   "cell_type": "code",
   "execution_count": 4,
   "metadata": {},
   "outputs": [
    {
     "data": {
      "text/html": [
       "<div>\n",
       "<style scoped>\n",
       "    .dataframe tbody tr th:only-of-type {\n",
       "        vertical-align: middle;\n",
       "    }\n",
       "\n",
       "    .dataframe tbody tr th {\n",
       "        vertical-align: top;\n",
       "    }\n",
       "\n",
       "    .dataframe thead th {\n",
       "        text-align: right;\n",
       "    }\n",
       "</style>\n",
       "<table border=\"1\" class=\"dataframe\">\n",
       "  <thead>\n",
       "    <tr style=\"text-align: right;\">\n",
       "      <th></th>\n",
       "      <th>Servant Name</th>\n",
       "      <th>ID</th>\n",
       "      <th>Rarity</th>\n",
       "      <th>Link</th>\n",
       "      <th>Description</th>\n",
       "    </tr>\n",
       "  </thead>\n",
       "  <tbody>\n",
       "    <tr>\n",
       "      <th>0</th>\n",
       "      <td>Mashu Kyrielight</td>\n",
       "      <td>1</td>\n",
       "      <td>4</td>\n",
       "      <td>Mashu_Kyrielight</td>\n",
       "      <td>This is Chaldea staff, Mash Kyrielight. After...</td>\n",
       "    </tr>\n",
       "    <tr>\n",
       "      <th>1</th>\n",
       "      <td>Artoria Pendragon</td>\n",
       "      <td>2</td>\n",
       "      <td>5</td>\n",
       "      <td>Artoria_Pendragon</td>\n",
       "      <td>Legendary King of Britain, and the King of Kn...</td>\n",
       "    </tr>\n",
       "    <tr>\n",
       "      <th>2</th>\n",
       "      <td>Artoria Pendragon (Alter)</td>\n",
       "      <td>3</td>\n",
       "      <td>4</td>\n",
       "      <td>Artoria_Pendragon_(Alter)</td>\n",
       "      <td>Corrupted by the curse of the Holy Grail, thi...</td>\n",
       "    </tr>\n",
       "    <tr>\n",
       "      <th>3</th>\n",
       "      <td>Artoria Pendragon (Lily)</td>\n",
       "      <td>4</td>\n",
       "      <td>4</td>\n",
       "      <td>Artoria_Pendragon_(Lily)</td>\n",
       "      <td>Pulling Caliburn the Sword of Selection out, ...</td>\n",
       "    </tr>\n",
       "    <tr>\n",
       "      <th>4</th>\n",
       "      <td>Nero Claudius</td>\n",
       "      <td>5</td>\n",
       "      <td>4</td>\n",
       "      <td>Nero_Claudius</td>\n",
       "      <td>A mighty emperor, and self-proclaimed \"beauty...</td>\n",
       "    </tr>\n",
       "  </tbody>\n",
       "</table>\n",
       "</div>"
      ],
      "text/plain": [
       "                Servant Name  ID  Rarity                       Link  \\\n",
       "0           Mashu Kyrielight   1       4           Mashu_Kyrielight   \n",
       "1          Artoria Pendragon   2       5          Artoria_Pendragon   \n",
       "2  Artoria Pendragon (Alter)   3       4  Artoria_Pendragon_(Alter)   \n",
       "3   Artoria Pendragon (Lily)   4       4   Artoria_Pendragon_(Lily)   \n",
       "4              Nero Claudius   5       4              Nero_Claudius   \n",
       "\n",
       "                                         Description  \n",
       "0   This is Chaldea staff, Mash Kyrielight. After...  \n",
       "1   Legendary King of Britain, and the King of Kn...  \n",
       "2   Corrupted by the curse of the Holy Grail, thi...  \n",
       "3   Pulling Caliburn the Sword of Selection out, ...  \n",
       "4   A mighty emperor, and self-proclaimed \"beauty...  "
      ]
     },
     "execution_count": 4,
     "metadata": {},
     "output_type": "execute_result"
    }
   ],
   "source": [
    "import pandas as pd\n",
    "import re\n",
    "\n",
    "# Example DataFrame\n",
    "df = pd.read_csv('Data.csv')\n",
    "#df = pd.read_csv('https://raw.githubusercontent.com/tiagoft/NLP/refs/heads/main/Aulas/datasets/IMDB%20Dataset.csv').sample(1000)\n",
    "df = df[df.index < 360]\n",
    "\n",
    "def clean_text(text, begin, end):\n",
    "    start_idx = text.find(begin)\n",
    "    end_idx = text.find(end)\n",
    "    fool_idx = text.find(\"April Fool\")\n",
    "    if fool_idx != -1:\n",
    "        text = text[:fool_idx]\n",
    "    if start_idx != -1 and end_idx != -1:\n",
    "        return text [:start_idx] + text[end_idx+len(end):]\n",
    "    return text\n",
    "\n",
    "def remove_enters(text):\n",
    "    return text.replace('\\n', ' ')\n",
    "\n",
    "begin = \"Unlock\"\n",
    "end = \"Localization:\"\n",
    "begin_list = [\"Unlock\", \"Bond 1\", \"Bond 2\", \"Bond 3\", \"Bond 4\", \"Bond 5\", \"Extra\"]\n",
    "for begin in begin_list:\n",
    "    df['Description'] = df['Description'].apply(lambda x: clean_text(x, begin, end))\n",
    "    \n",
    "df['Description'] = df['Description'].apply(remove_enters)\n",
    "\n",
    "def class_edit(text):\n",
    "    return int(text[0])\n",
    "\n",
    "df['Rarity'] = df['Rarity'].apply(class_edit)\n",
    "\n",
    "df.head(5)"
   ]
  },
  {
   "cell_type": "code",
   "execution_count": 5,
   "metadata": {},
   "outputs": [
    {
     "data": {
      "text/plain": [
       "360"
      ]
     },
     "execution_count": 5,
     "metadata": {},
     "output_type": "execute_result"
    }
   ],
   "source": [
    "len(df)"
   ]
  },
  {
   "cell_type": "code",
   "execution_count": 6,
   "metadata": {},
   "outputs": [],
   "source": [
    "class MyOtherClassifier( nn.Module ):\n",
    "    def __init__(self, vocab_size, embedding_layer, embedding_dim, hidden_dim, output_dim, n_special_tokens=2, n_layers=10):\n",
    "        super(MyOtherClassifier, self).__init__()\n",
    "        self.n_special_tokens = n_special_tokens\n",
    "        self.embedding = embedding_layer\n",
    "        self.hidden = hidden_dim\n",
    "        self.fc = nn.Linear(embedding_dim, hidden_dim)\n",
    "        self.fc_multi = self.multi_layered(n_layers)\n",
    "        self.fc2 = nn.Linear(hidden_dim, output_dim)\n",
    "        self.relu = nn.ReLU()\n",
    "\n",
    "    def _pool(self, x):\n",
    "        x = torch.mean(x, dim=1)\n",
    "        return x\n",
    "\n",
    "    def multi_layered(self, n):\n",
    "        layers = nn.Sequential()\n",
    "        for i in range(n):\n",
    "            layers.add_module(f'layer{i}', nn.Linear(self.hidden, self.hidden))\n",
    "        return layers\n",
    "\n",
    "    def forward(self, x):\n",
    "        x = self.embedding(x)\n",
    "        y = self._pool(x)\n",
    "        z = self.fc(y)\n",
    "        z = self.relu(z)\n",
    "        z = self.fc_multi(z)\n",
    "        z_ = self.relu(z)\n",
    "        z = self.fc2(z_)\n",
    "        return z, y, z_\n",
    "    "
   ]
  },
  {
   "cell_type": "code",
   "execution_count": 7,
   "metadata": {},
   "outputs": [
    {
     "name": "stdout",
     "output_type": "stream",
     "text": [
      "[1, 2, 3, 4, 5]\n"
     ]
    }
   ],
   "source": [
    "from sklearn.model_selection import train_test_split\n",
    "\n",
    "X_train, X_test, y_train, y_test = train_test_split(df['Description'], df['Rarity'], test_size=0.2, random_state=33)\n",
    "classes = list(set(y_train))\n",
    "\n",
    "print(classes)"
   ]
  },
  {
   "cell_type": "code",
   "execution_count": null,
   "metadata": {},
   "outputs": [
    {
     "name": "stderr",
     "output_type": "stream",
     "text": [
      "  0%|          | 0/1000 [00:00<?, ?it/s]C:\\Users\\Tiago\\AppData\\Local\\Temp\\ipykernel_8856\\4292786007.py:68: UserWarning: To copy construct from a tensor, it is recommended to use sourceTensor.clone().detach() or sourceTensor.clone().detach().requires_grad_(True), rather than torch.tensor(sourceTensor).\n",
      "  y = torch.tensor(label).reshape(1).clone().detach()\n",
      "100%|██████████| 1000/1000 [06:42<00:00,  2.49it/s]\n"
     ]
    },
    {
     "data": {
      "image/png": "[encoded data removed]",
      "text/plain": [
       "<Figure size 300x200 with 1 Axes>"
      ]
     },
     "metadata": {},
     "output_type": "display_data"
    }
   ],
   "source": [
    "import matplotlib.pyplot as plt\n",
    "from tqdm import tqdm \n",
    "\n",
    "y_train_bin = torch.tensor([[classes.index(y) for y in y_train]]).T\n",
    "y_test_bin = torch.tensor([[classes.index(z) for z in y_test]]).T\n",
    "\n",
    "# Train the tokenizer\n",
    "tokenizer = MyTokenizer(sentence_length=100)\n",
    "tokenizer.fit(X_train)\n",
    "\n",
    "dataset = TextDataset(list(X_train), y_train_bin, tokenizer)\n",
    "dataloader = DataLoader(dataset, batch_size=312, shuffle=True)\n",
    "\n",
    "model = MyOtherClassifier(vocab_size=tokenizer.vocab_size,\n",
    "                          embedding_layer=embedding,\n",
    "                          embedding_dim=300, \n",
    "                          hidden_dim=312,\n",
    "                          output_dim=5,\n",
    "                          n_special_tokens=2,\n",
    "                          n_layers=3)\n",
    "optimizer = torch.optim.Adam(model.parameters(), lr=1e-4) # lr is the learning rate - this is our alpha\n",
    "loss_fn = nn.CrossEntropyLoss() # Binary Cross Entropy from Logits\n",
    "# And now, a loop that is equal for everyone:\n",
    "\n",
    "losses = []\n",
    "for epoch in tqdm(range(1000)):\n",
    "    epoch_loss = 0\n",
    "    for batch in dataloader:\n",
    "        X_train_vect, y_train_vect = batch\n",
    "        y_train_vect = y_train_vect.reshape( (-1,) )\n",
    "        optimizer.zero_grad()\n",
    "        output, y_pool, output_ = model(X_train_vect)\n",
    "        loss = loss_fn(output, y_train_vect)\n",
    "        loss.backward()\n",
    "        optimizer.step()\n",
    "        epoch_loss += loss.item()\n",
    "\n",
    "    losses.append(epoch_loss / len(dataloader))\n",
    "\n",
    "# Saved Model\n",
    "# torch.save(model.state_dict(), \"model.pt\")\n",
    "\n",
    "plt.figure(figsize=(3,2))\n",
    "plt.plot(losses)\n",
    "plt.xlabel('Epoch')\n",
    "plt.ylabel('Loss')\n",
    "plt.show()"
   ]
  },
  {
   "cell_type": "code",
   "execution_count": 112,
   "metadata": {},
   "outputs": [
    {
     "data": {
      "text/plain": [
       "<matplotlib.collections.PathCollection at 0x1bfa32d20d0>"
      ]
     },
     "execution_count": 112,
     "metadata": {},
     "output_type": "execute_result"
    },
    {
     "data": {
      "image/png": "[encoded data removed]",
      "text/plain": [
       "<Figure size 640x480 with 1 Axes>"
      ]
     },
     "metadata": {},
     "output_type": "display_data"
    }
   ],
   "source": [
    "# Pre-trained Embeddings\n",
    "from sklearn.manifold import TSNE\n",
    "import numpy as np\n",
    "\n",
    "tsne = TSNE(n_components=2)\n",
    "X_proj = tsne.fit_transform(output.detach().numpy())\n",
    "\n",
    "plt.scatter(X_proj[:, 0], X_proj[:, 1])\n"
   ]
  },
  {
   "cell_type": "code",
   "execution_count": 113,
   "metadata": {},
   "outputs": [
    {
     "data": {
      "text/plain": [
       "<matplotlib.collections.PathCollection at 0x1bfa1de3f40>"
      ]
     },
     "execution_count": 113,
     "metadata": {},
     "output_type": "execute_result"
    },
    {
     "data": {
      "image/png": "[encoded data removed]",
      "text/plain": [
       "<Figure size 640x480 with 1 Axes>"
      ]
     },
     "metadata": {},
     "output_type": "display_data"
    }
   ],
   "source": [
    "# Tunned Embeddings\n",
    "from sklearn.manifold import TSNE\n",
    "import numpy as np\n",
    "\n",
    "tsne = TSNE(n_components=2)\n",
    "X_proj = tsne.fit_transform(output_.detach().numpy())\n",
    "\n",
    "plt.scatter(X_proj[:, 0], X_proj[:, 1])"
   ]
  },
  {
   "cell_type": "code",
   "execution_count": null,
   "metadata": {},
   "outputs": [
    {
     "name": "stdout",
     "output_type": "stream",
     "text": [
      "William Tell, the only character with the word 'smoke' on his Description, has a similarity of -0.02 with that word\n",
      "The greatest similarity with that word is: 0.70\n"
     ]
    }
   ],
   "source": [
    "# Non-obvious\n",
    "import torch.nn.functional as Funct\n",
    "\n",
    "# Load saved model\n",
    "model = MyOtherClassifier(vocab_size=tokenizer.vocab_size,\n",
    "                          embedding_layer=embedding,\n",
    "                          embedding_dim=300, \n",
    "                          hidden_dim=312,\n",
    "                          output_dim=5,\n",
    "                          n_special_tokens=2,\n",
    "                          n_layers=3)\n",
    "model.load_state_dict(torch.load(\"model.pt\", weights_only=True))\n",
    "model.eval()\n",
    "\n",
    "query = 'smoke'\n",
    "token_query = tokenizer(query)\n",
    "tensor_query = torch.tensor(token_query).reshape((1,-1))\n",
    "model_query, query_pool, model_query_ = model(tensor_query)\n",
    "\n",
    "y_pool_norm = Funct.normalize(y_pool, dim = 1)\n",
    "query_pool_norm = Funct.normalize(query_pool, dim = 1)\n",
    "\n",
    "similarity = y_pool_norm @ query_pool_norm.T\n",
    "reasonable_similarities = []\n",
    "\n",
    "for i in range(len(similarity)):\n",
    "    reasonable_similarities.append(similarity[i][0])\n",
    "\n",
    "result = pd.merge(df, X_train, on='Description')\n",
    "filtered_df = result[result['Servant Name'].str.contains('William Tell', case=False)]\n",
    "ids = filtered_df.index.tolist()\n",
    "\n",
    "will_sim = (similarity[ids[0]][0])\n",
    "print(\"William Tell, the only character with the word 'smoke' on his Description, has a similarity of\", \"%.2f\" % float(will_sim), \"with that word\")\n",
    "print(\"The greatest similarity with that word is:\",\"%.2f\" % float(max((reasonable_similarities))))"
   ]
  },
  {
   "cell_type": "code",
   "execution_count": 181,
   "metadata": {},
   "outputs": [
    {
     "name": "stdout",
     "output_type": "stream",
     "text": [
      "The amount of characters with a similarity greater than 0.7 is 1\n"
     ]
    }
   ],
   "source": [
    "# Less than 10 results\n",
    "\n",
    "# Load saved model\n",
    "model = MyOtherClassifier(vocab_size=tokenizer.vocab_size,\n",
    "                          embedding_layer=embedding,\n",
    "                          embedding_dim=300, \n",
    "                          hidden_dim=312,\n",
    "                          output_dim=5,\n",
    "                          n_special_tokens=2,\n",
    "                          n_layers=3)\n",
    "model.load_state_dict(torch.load(\"model.pt\", weights_only=True))\n",
    "model.eval()\n",
    "\n",
    "query = 'Santa Claus wears red on christmas eve, delivers presents, and brings joy to all children that are good. Coal to the naughty ones.'\n",
    "token_query = tokenizer(query)\n",
    "tensor_query = torch.tensor(token_query).reshape((1,-1))\n",
    "model_query, query_pool, model_query_ = model(tensor_query)\n",
    "\n",
    "y_pool_norm = Funct.normalize(y_pool, dim = 1)\n",
    "query_pool_norm = Funct.normalize(query_pool, dim = 1)\n",
    "\n",
    "similarity = y_pool_norm @ query_pool_norm.T\n",
    "similarities = {}\n",
    "\n",
    "value = 0.7\n",
    "\n",
    "for i in range(len(similarity)):\n",
    "    if similarity[i][0] > value:\n",
    "        similarities[i] = similarity[i][0]\n",
    "\n",
    "print(f\"The amount of characters with a similarity greater than {value} is\",len(similarities))\n"
   ]
  },
  {
   "cell_type": "code",
   "execution_count": 187,
   "metadata": {},
   "outputs": [
    {
     "name": "stdout",
     "output_type": "stream",
     "text": [
      "The amount of characters with a similarity greater than 0.082 is 10\n"
     ]
    }
   ],
   "source": [
    "# 10 results\n",
    "# Had to tune to this threshhold\n",
    "\n",
    "# Load saved model\n",
    "model = MyOtherClassifier(vocab_size=tokenizer.vocab_size,\n",
    "                          embedding_layer=embedding,\n",
    "                          embedding_dim=300, \n",
    "                          hidden_dim=312,\n",
    "                          output_dim=5,\n",
    "                          n_special_tokens=2,\n",
    "                          n_layers=3)\n",
    "model.load_state_dict(torch.load(\"model.pt\", weights_only=True))\n",
    "model.eval()\n",
    "\n",
    "query_10 = 'A teacher is someone that helps you learn to improve yourself, to be a better person'\n",
    "token_query = tokenizer(query_10)\n",
    "tensor_query = torch.tensor(token_query).reshape((1,-1))\n",
    "model_query, query_pool, model_query_ = model(tensor_query)\n",
    "\n",
    "y_pool_norm = Funct.normalize(y_pool, dim = 1)\n",
    "query_pool_norm = Funct.normalize(query_pool, dim = 1)\n",
    "\n",
    "similarity = y_pool_norm @ query_pool_norm.T\n",
    "similarities = {}\n",
    "\n",
    "value = 0.082\n",
    "\n",
    "for i in range(len(similarity)):\n",
    "    if similarity[i][0] > value:\n",
    "        similarities[i] = similarity[i][0]\n",
    "\n",
    "print(f\"The amount of characters with a similarity greater than {value} is\",len(similarities))"
   ]
  }
 ],
 "metadata": {
  "kernelspec": {
   "display_name": "Python 3",
   "language": "python",
   "name": "python3"
  },
  "language_info": {
   "codemirror_mode": {
    "name": "ipython",
    "version": 3
   },
   "file_extension": ".py",
   "mimetype": "text/x-python",
   "name": "python",
   "nbconvert_exporter": "python",
   "pygments_lexer": "ipython3",
   "version": "3.9.13"
  }
 },
 "nbformat": 4,
 "nbformat_minor": 2
}
